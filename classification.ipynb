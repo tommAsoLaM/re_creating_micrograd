{
 "cells": [
  {
   "cell_type": "markdown",
   "id": "219defe2",
   "metadata": {},
   "source": [
    "follows a first try of making classification\n",
    "we are going to try to do it on the iris dataset, a small and simple one"
   ]
  },
  {
   "cell_type": "code",
   "execution_count": 1,
   "id": "4892641d",
   "metadata": {},
   "outputs": [],
   "source": [
    "import pandas as pd\n",
    "import numpy as np\n",
    "import importlib\n",
    "import nn\n",
    "import utils\n",
    "importlib.reload(nn)\n",
    "importlib.reload(utils)\n",
    "from utils import loss,softMax\n",
    "from nn import MLP\n",
    "# import Engine\n",
    "# importlib.reload(Engine)\n",
    "# from Engine import Value\n",
    "from sklearn.model_selection import train_test_split\n",
    "from sklearn.metrics import accuracy_score"
   ]
  },
  {
   "cell_type": "code",
   "execution_count": 2,
   "id": "f22efbd6",
   "metadata": {},
   "outputs": [],
   "source": [
    "df = pd.read_csv('datasets/iris.csv')\n",
    "mapdict = {'Iris-setosa':1, 'Iris-versicolor':2, 'Iris-virginica':3}\n",
    "df['label'] = df['label'].map(mapdict)"
   ]
  },
  {
   "cell_type": "code",
   "execution_count": 3,
   "id": "8ec37534",
   "metadata": {},
   "outputs": [],
   "source": [
    "labels = df['label'].tolist()\n",
    "X = df.iloc[:, :-1].to_numpy()\n",
    "#we have the data, we have the labels"
   ]
  },
  {
   "cell_type": "code",
   "execution_count": 4,
   "id": "8801f932",
   "metadata": {},
   "outputs": [],
   "source": [
    "def onehot_labels(labels:list):\n",
    "    y_true = []\n",
    "    for label in labels:\n",
    "        temp = [0,0,0]\n",
    "        temp[label-1] = 1\n",
    "        y_true.append(temp)\n",
    "    return y_true"
   ]
  },
  {
   "cell_type": "code",
   "execution_count": 5,
   "id": "ca819c68",
   "metadata": {},
   "outputs": [
    {
     "name": "stdout",
     "output_type": "stream",
     "text": [
      "[1, 2, 1, 1, 3, 3, 3, 1, 1, 2, 2, 3, 1, 3, 2, 3, 3, 3, 3, 1, 1, 2, 1, 3, 1, 2, 2, 3, 1, 3, 1, 1, 2, 1, 3, 1, 2, 3, 3, 2, 1, 1, 1, 1, 2, 3, 3, 1, 2, 2, 3, 1, 2, 3, 2, 3, 1, 3, 2, 1, 1, 2, 2, 3, 1, 3, 3, 1, 2, 1, 3, 1, 3, 3, 2, 2, 1, 2, 1, 3, 2, 1, 2, 3, 1, 1, 1, 1, 1, 3, 1, 1, 2, 2, 2, 1, 3, 3, 3, 1, 1, 1, 2, 3, 1, 3, 3, 3, 2, 2, 2, 2, 3, 2, 2, 1, 2, 2, 2, 3]\n",
      "[[1, 0, 0], [0, 1, 0], [1, 0, 0], [1, 0, 0], [0, 0, 1], [0, 0, 1], [0, 0, 1], [1, 0, 0], [1, 0, 0], [0, 1, 0], [0, 1, 0], [0, 0, 1], [1, 0, 0], [0, 0, 1], [0, 1, 0], [0, 0, 1], [0, 0, 1], [0, 0, 1], [0, 0, 1], [1, 0, 0], [1, 0, 0], [0, 1, 0], [1, 0, 0], [0, 0, 1], [1, 0, 0], [0, 1, 0], [0, 1, 0], [0, 0, 1], [1, 0, 0], [0, 0, 1], [1, 0, 0], [1, 0, 0], [0, 1, 0], [1, 0, 0], [0, 0, 1], [1, 0, 0], [0, 1, 0], [0, 0, 1], [0, 0, 1], [0, 1, 0], [1, 0, 0], [1, 0, 0], [1, 0, 0], [1, 0, 0], [0, 1, 0], [0, 0, 1], [0, 0, 1], [1, 0, 0], [0, 1, 0], [0, 1, 0], [0, 0, 1], [1, 0, 0], [0, 1, 0], [0, 0, 1], [0, 1, 0], [0, 0, 1], [1, 0, 0], [0, 0, 1], [0, 1, 0], [1, 0, 0], [1, 0, 0], [0, 1, 0], [0, 1, 0], [0, 0, 1], [1, 0, 0], [0, 0, 1], [0, 0, 1], [1, 0, 0], [0, 1, 0], [1, 0, 0], [0, 0, 1], [1, 0, 0], [0, 0, 1], [0, 0, 1], [0, 1, 0], [0, 1, 0], [1, 0, 0], [0, 1, 0], [1, 0, 0], [0, 0, 1], [0, 1, 0], [1, 0, 0], [0, 1, 0], [0, 0, 1], [1, 0, 0], [1, 0, 0], [1, 0, 0], [1, 0, 0], [1, 0, 0], [0, 0, 1], [1, 0, 0], [1, 0, 0], [0, 1, 0], [0, 1, 0], [0, 1, 0], [1, 0, 0], [0, 0, 1], [0, 0, 1], [0, 0, 1], [1, 0, 0], [1, 0, 0], [1, 0, 0], [0, 1, 0], [0, 0, 1], [1, 0, 0], [0, 0, 1], [0, 0, 1], [0, 0, 1], [0, 1, 0], [0, 1, 0], [0, 1, 0], [0, 1, 0], [0, 0, 1], [0, 1, 0], [0, 1, 0], [1, 0, 0], [0, 1, 0], [0, 1, 0], [0, 1, 0], [0, 0, 1]]\n"
     ]
    }
   ],
   "source": [
    "X_train, X_test, y_train, y_test = train_test_split(X,labels, test_size=0.2)\n",
    "print(y_train)\n",
    "y_true_train = onehot_labels(y_train)\n",
    "print(y_true_train)"
   ]
  },
  {
   "cell_type": "code",
   "execution_count": 24,
   "id": "5f325f3c",
   "metadata": {},
   "outputs": [],
   "source": [
    "model = MLP([4,4,4,3])"
   ]
  },
  {
   "cell_type": "code",
   "execution_count": 27,
   "id": "d5d51e46",
   "metadata": {},
   "outputs": [
    {
     "name": "stdout",
     "output_type": "stream",
     "text": [
      "accuracy : 0.30833333333333335, loss:  Value 148.1087049177463\n",
      "accuracy : 0.30833333333333335, loss:  Value 148.1047938639654\n",
      "accuracy : 0.30833333333333335, loss:  Value 148.10105947903705\n",
      "accuracy : 0.30833333333333335, loss:  Value 148.09745733680532\n",
      "accuracy : 0.30833333333333335, loss:  Value 148.09406391790608\n",
      "accuracy : 0.30833333333333335, loss:  Value 148.09062663858947\n",
      "accuracy : 0.30833333333333335, loss:  Value 148.087786036816\n",
      "accuracy : 0.30833333333333335, loss:  Value 148.08386196315053\n",
      "accuracy : 0.30833333333333335, loss:  Value 148.08298893021225\n",
      "accuracy : 0.30833333333333335, loss:  Value 148.07673985810376\n",
      "accuracy : 0.11666666666666667, loss:  Value 148.0868819490191\n",
      "accuracy : 0.30833333333333335, loss:  Value 148.16821561616754\n",
      "accuracy : 0.325, loss:  Value 148.87031783833794\n",
      "accuracy : 0.30833333333333335, loss:  Value 156.0261284922089\n",
      "accuracy : 0.325, loss:  Value 171.02968093661426\n",
      "accuracy : 0.30833333333333335, loss:  Value 153.4090621293267\n",
      "accuracy : 0.325, loss:  Value 164.4570892525841\n",
      "accuracy : 0.30833333333333335, loss:  Value 164.7509341878569\n",
      "accuracy : 0.325, loss:  Value 163.3312526346379\n",
      "accuracy : 0.30833333333333335, loss:  Value 165.55703769409965\n",
      "accuracy : 0.325, loss:  Value 160.0029302774524\n",
      "accuracy : 0.30833333333333335, loss:  Value 169.3776774461348\n",
      "accuracy : 0.325, loss:  Value 152.96678359449848\n",
      "accuracy : 0.30833333333333335, loss:  Value 171.46303290297814\n",
      "accuracy : 0.325, loss:  Value 154.1459523670569\n",
      "accuracy : 0.30833333333333335, loss:  Value 155.33806503076823\n",
      "accuracy : 0.325, loss:  Value 165.48158465201172\n",
      "accuracy : 0.30833333333333335, loss:  Value 160.09561752638922\n",
      "accuracy : 0.325, loss:  Value 158.0863747112009\n",
      "accuracy : 0.30833333333333335, loss:  Value 166.144978594046\n",
      "accuracy : 0.325, loss:  Value 156.85112922226654\n",
      "accuracy : 0.30833333333333335, loss:  Value 166.7196875633557\n",
      "accuracy : 0.325, loss:  Value 156.27000016732137\n",
      "accuracy : 0.30833333333333335, loss:  Value 166.69350027157674\n",
      "accuracy : 0.325, loss:  Value 156.2334373706873\n",
      "accuracy : 0.30833333333333335, loss:  Value 166.4333690663216\n",
      "accuracy : 0.325, loss:  Value 156.2758588516155\n",
      "accuracy : 0.30833333333333335, loss:  Value 166.05503964678945\n",
      "accuracy : 0.325, loss:  Value 156.26617713253071\n",
      "accuracy : 0.30833333333333335, loss:  Value 165.50476666224895\n",
      "accuracy : 0.325, loss:  Value 156.24110288267784\n",
      "accuracy : 0.30833333333333335, loss:  Value 164.77148927671087\n",
      "accuracy : 0.325, loss:  Value 156.19232197205193\n",
      "accuracy : 0.30833333333333335, loss:  Value 163.71493081723096\n",
      "accuracy : 0.325, loss:  Value 156.2591745998425\n",
      "accuracy : 0.30833333333333335, loss:  Value 162.92822543609546\n",
      "accuracy : 0.325, loss:  Value 155.40892854455035\n",
      "accuracy : 0.30833333333333335, loss:  Value 155.53189730073296\n",
      "accuracy : 0.325, loss:  Value 154.73573562271758\n",
      "accuracy : 0.30833333333333335, loss:  Value 149.5102095476772\n",
      "accuracy : 0.325, loss:  Value 165.77073247895893\n"
     ]
    },
    {
     "ename": "KeyboardInterrupt",
     "evalue": "",
     "output_type": "error",
     "traceback": [
      "\u001b[1;31m---------------------------------------------------------------------------\u001b[0m",
      "\u001b[1;31mKeyboardInterrupt\u001b[0m                         Traceback (most recent call last)",
      "Cell \u001b[1;32mIn[27], line 9\u001b[0m\n\u001b[0;32m      7\u001b[0m \u001b[38;5;28;01mfor\u001b[39;00m i \u001b[38;5;129;01min\u001b[39;00m \u001b[38;5;28mrange\u001b[39m(\u001b[38;5;28mlen\u001b[39m(X_train)):\n\u001b[0;32m      8\u001b[0m     preds \u001b[38;5;241m=\u001b[39m softMax(model(X_train[i]))\n\u001b[1;32m----> 9\u001b[0m     valLoss \u001b[38;5;241m+\u001b[39m\u001b[38;5;241m=\u001b[39m \u001b[43mloss\u001b[49m\u001b[43m(\u001b[49m\u001b[43mpreds\u001b[49m\u001b[43m,\u001b[49m\u001b[43m \u001b[49m\u001b[43my_true_train\u001b[49m\u001b[43m[\u001b[49m\u001b[43mi\u001b[49m\u001b[43m]\u001b[49m\u001b[43m,\u001b[49m\u001b[43m \u001b[49m\u001b[43mcriterion\u001b[49m\u001b[38;5;241;43m=\u001b[39;49m\u001b[38;5;124;43m'\u001b[39;49m\u001b[38;5;124;43mcross\u001b[39;49m\u001b[38;5;124;43m'\u001b[39;49m\u001b[43m)\u001b[49m\n\u001b[0;32m     10\u001b[0m     \u001b[38;5;66;03m#ok now we also want to calculate the accuracy\u001b[39;00m\n\u001b[0;32m     11\u001b[0m     choice \u001b[38;5;241m=\u001b[39m preds\u001b[38;5;241m.\u001b[39mindex(\u001b[38;5;28mmax\u001b[39m(preds)) \u001b[38;5;241m+\u001b[39m \u001b[38;5;241m1\u001b[39m\n",
      "File \u001b[1;32mc:\\Users\\tomma\\OneDrive - Politecnico di Torino\\Desktop\\università\\progetti\\re_creating_micrograd\\utils.py:20\u001b[0m, in \u001b[0;36mloss\u001b[1;34m(ypreds, ytrue, criterion)\u001b[0m\n\u001b[0;32m     17\u001b[0m     loss \u001b[38;5;241m=\u001b[39m loss\u001b[38;5;241m/\u001b[39m\u001b[38;5;28mlen\u001b[39m(ypreds)\n\u001b[0;32m     19\u001b[0m \u001b[38;5;28;01mif\u001b[39;00m criterion \u001b[38;5;241m==\u001b[39m \u001b[38;5;124m'\u001b[39m\u001b[38;5;124mcross\u001b[39m\u001b[38;5;124m'\u001b[39m:\n\u001b[1;32m---> 20\u001b[0m     loss \u001b[38;5;241m=\u001b[39m \u001b[38;5;241m-\u001b[39m\u001b[38;5;28msum\u001b[39m(y_t \u001b[38;5;241m*\u001b[39m (y_p\u001b[38;5;241m.\u001b[39mlog()) \u001b[38;5;28;01mfor\u001b[39;00m y_t, y_p \u001b[38;5;129;01min\u001b[39;00m \u001b[38;5;28mzip\u001b[39m(ytrue, ypreds))\n\u001b[0;32m     21\u001b[0m \u001b[38;5;28;01mreturn\u001b[39;00m loss\n",
      "File \u001b[1;32mc:\\Users\\tomma\\OneDrive - Politecnico di Torino\\Desktop\\università\\progetti\\re_creating_micrograd\\utils.py:20\u001b[0m, in \u001b[0;36m<genexpr>\u001b[1;34m(.0)\u001b[0m\n\u001b[0;32m     17\u001b[0m     loss \u001b[38;5;241m=\u001b[39m loss\u001b[38;5;241m/\u001b[39m\u001b[38;5;28mlen\u001b[39m(ypreds)\n\u001b[0;32m     19\u001b[0m \u001b[38;5;28;01mif\u001b[39;00m criterion \u001b[38;5;241m==\u001b[39m \u001b[38;5;124m'\u001b[39m\u001b[38;5;124mcross\u001b[39m\u001b[38;5;124m'\u001b[39m:\n\u001b[1;32m---> 20\u001b[0m     loss \u001b[38;5;241m=\u001b[39m \u001b[38;5;241m-\u001b[39m\u001b[38;5;28msum\u001b[39m(y_t \u001b[38;5;241m*\u001b[39m (\u001b[43my_p\u001b[49m\u001b[38;5;241;43m.\u001b[39;49m\u001b[43mlog\u001b[49m\u001b[43m(\u001b[49m\u001b[43m)\u001b[49m) \u001b[38;5;28;01mfor\u001b[39;00m y_t, y_p \u001b[38;5;129;01min\u001b[39;00m \u001b[38;5;28mzip\u001b[39m(ytrue, ypreds))\n\u001b[0;32m     21\u001b[0m \u001b[38;5;28;01mreturn\u001b[39;00m loss\n",
      "File \u001b[1;32mc:\\Users\\tomma\\OneDrive - Politecnico di Torino\\Desktop\\università\\progetti\\re_creating_micrograd\\Engine.py:55\u001b[0m, in \u001b[0;36mValue.log\u001b[1;34m(self)\u001b[0m\n\u001b[0;32m     54\u001b[0m \u001b[38;5;28;01mdef\u001b[39;00m \u001b[38;5;21mlog\u001b[39m(\u001b[38;5;28mself\u001b[39m):\n\u001b[1;32m---> 55\u001b[0m     out \u001b[38;5;241m=\u001b[39m \u001b[43mValue\u001b[49m\u001b[43m(\u001b[49m\u001b[43mdata\u001b[49m\u001b[43m \u001b[49m\u001b[38;5;241;43m=\u001b[39;49m\u001b[43m \u001b[49m\u001b[43mmath\u001b[49m\u001b[38;5;241;43m.\u001b[39;49m\u001b[43mlog\u001b[49m\u001b[43m(\u001b[49m\u001b[38;5;28;43mself\u001b[39;49m\u001b[38;5;241;43m.\u001b[39;49m\u001b[43mdata\u001b[49m\u001b[43m)\u001b[49m\u001b[43m,\u001b[49m\u001b[43m \u001b[49m\u001b[43m_op\u001b[49m\u001b[43m \u001b[49m\u001b[38;5;241;43m=\u001b[39;49m\u001b[43m \u001b[49m\u001b[38;5;124;43m'\u001b[39;49m\u001b[38;5;124;43mlog\u001b[39;49m\u001b[38;5;124;43m'\u001b[39;49m\u001b[43m,\u001b[49m\u001b[43m \u001b[49m\u001b[43mchildren\u001b[49m\u001b[43m \u001b[49m\u001b[38;5;241;43m=\u001b[39;49m\u001b[43m \u001b[49m\u001b[43m(\u001b[49m\u001b[38;5;28;43mself\u001b[39;49m\u001b[43m,\u001b[49m\u001b[43m \u001b[49m\u001b[43m)\u001b[49m\u001b[43m)\u001b[49m\n\u001b[0;32m     56\u001b[0m     \u001b[38;5;28;01mdef\u001b[39;00m \u001b[38;5;21m_backward\u001b[39m():\n\u001b[0;32m     57\u001b[0m         \u001b[38;5;28mself\u001b[39m\u001b[38;5;241m.\u001b[39mgrad \u001b[38;5;241m+\u001b[39m\u001b[38;5;241m=\u001b[39m (\u001b[38;5;241m1\u001b[39m\u001b[38;5;241m/\u001b[39m\u001b[38;5;28mself\u001b[39m\u001b[38;5;241m.\u001b[39mdata) \u001b[38;5;241m*\u001b[39m out\u001b[38;5;241m.\u001b[39mgrad\n",
      "File \u001b[1;32mc:\\Users\\tomma\\OneDrive - Politecnico di Torino\\Desktop\\università\\progetti\\re_creating_micrograd\\Engine.py:10\u001b[0m, in \u001b[0;36mValue.__init__\u001b[1;34m(self, data, _op, label, children)\u001b[0m\n\u001b[0;32m      8\u001b[0m \u001b[38;5;28mself\u001b[39m\u001b[38;5;241m.\u001b[39m_op \u001b[38;5;241m=\u001b[39m _op\n\u001b[0;32m      9\u001b[0m \u001b[38;5;28mself\u001b[39m\u001b[38;5;241m.\u001b[39mlabel \u001b[38;5;241m=\u001b[39m label\n\u001b[1;32m---> 10\u001b[0m \u001b[38;5;28mself\u001b[39m\u001b[38;5;241m.\u001b[39m_prev \u001b[38;5;241m=\u001b[39m \u001b[38;5;28mset\u001b[39m(children)\n\u001b[0;32m     11\u001b[0m \u001b[38;5;28mself\u001b[39m\u001b[38;5;241m.\u001b[39m_backward \u001b[38;5;241m=\u001b[39m \u001b[38;5;28;01mlambda\u001b[39;00m : \u001b[38;5;28;01mNone\u001b[39;00m\n",
      "File \u001b[1;32mc:\\Users\\tomma\\OneDrive - Politecnico di Torino\\Desktop\\università\\progetti\\re_creating_micrograd\\Engine.py:90\u001b[0m, in \u001b[0;36mValue.__hash__\u001b[1;34m(self)\u001b[0m\n\u001b[0;32m     87\u001b[0m     other \u001b[38;5;241m=\u001b[39m other \u001b[38;5;28;01mif\u001b[39;00m \u001b[38;5;28misinstance\u001b[39m(other, Value) \u001b[38;5;28;01melse\u001b[39;00m Value(other)\n\u001b[0;32m     88\u001b[0m     \u001b[38;5;28;01mreturn\u001b[39;00m \u001b[38;5;28mself\u001b[39m\u001b[38;5;241m.\u001b[39mdata \u001b[38;5;241m==\u001b[39m other\u001b[38;5;241m.\u001b[39mdata\n\u001b[1;32m---> 90\u001b[0m \u001b[38;5;28;01mdef\u001b[39;00m \u001b[38;5;21m__hash__\u001b[39m(\u001b[38;5;28mself\u001b[39m):\n\u001b[0;32m     91\u001b[0m     \u001b[38;5;28;01mreturn\u001b[39;00m \u001b[38;5;28mid\u001b[39m(\u001b[38;5;28mself\u001b[39m)\n\u001b[0;32m     93\u001b[0m \u001b[38;5;28;01mdef\u001b[39;00m \u001b[38;5;21mtanh\u001b[39m(\u001b[38;5;28mself\u001b[39m):\n",
      "\u001b[1;31mKeyboardInterrupt\u001b[0m: "
     ]
    }
   ],
   "source": [
    "#this is going to be the code for one epoch\n",
    "n_epochs = 1000\n",
    "lr = 0.05\n",
    "for j in range(n_epochs):\n",
    "    valLoss = 0\n",
    "    predictions = []\n",
    "    for i in range(len(X_train)):\n",
    "        preds = softMax(model(X_train[i]))\n",
    "        valLoss += loss(preds, y_true_train[i], criterion='cross')\n",
    "        #ok now we also want to calculate the accuracy\n",
    "        choice = preds.index(max(preds)) + 1\n",
    "        predictions.append(choice)\n",
    "\n",
    "        # if i%50 == 0:\n",
    "        #     print(f'preds (softmax): {preds}, ground truth: {y_true_train[i]}')\n",
    "\n",
    "    # if j%10==0:\n",
    "    #     print(f'loss : {valLoss}')\n",
    "    parameters = model.parameters()\n",
    "    for p in parameters:\n",
    "        p.grad = 0\n",
    "\n",
    "    valLoss.backward()\n",
    "\n",
    "    for parameter in parameters:\n",
    "        parameter.data += -lr * parameter.grad\n",
    "    \n",
    "    print(f'accuracy : {accuracy_score(y_train, predictions)}, loss: {valLoss}')\n",
    "\n",
    "\n"
   ]
  },
  {
   "cell_type": "code",
   "execution_count": null,
   "id": "ab8726e5",
   "metadata": {},
   "outputs": [],
   "source": []
  }
 ],
 "metadata": {
  "kernelspec": {
   "display_name": "Python 3",
   "language": "python",
   "name": "python3"
  },
  "language_info": {
   "codemirror_mode": {
    "name": "ipython",
    "version": 3
   },
   "file_extension": ".py",
   "mimetype": "text/x-python",
   "name": "python",
   "nbconvert_exporter": "python",
   "pygments_lexer": "ipython3",
   "version": "3.11.3"
  }
 },
 "nbformat": 4,
 "nbformat_minor": 5
}
